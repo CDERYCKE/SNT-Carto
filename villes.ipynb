{
 "cells": [
  {
   "attachments": {},
   "cell_type": "markdown",
   "metadata": {},
   "source": [
    "# Villes du monde - Données et cartographie #"
   ]
  },
  {
   "attachments": {},
   "cell_type": "markdown",
   "metadata": {},
   "source": [
    "**Objectif :** afficher une carte avec les 20 plus grandes villes :  "
   ]
  },
  {
   "attachments": {},
   "cell_type": "markdown",
   "metadata": {},
   "source": [
    "<div class=\"alert alert-info\" role=\"alert\">\n",
    "  <strong>Travail à faire sur le notebook : </strong> <br>\n",
    "    Pour les cellules suivantes, appuyez sur <strong>SHIFT + ENTREE </strong>pour lancer le code Python contenu chaque cellule\n",
    "</div>"
   ]
  },
  {
   "attachments": {},
   "cell_type": "markdown",
   "metadata": {},
   "source": [
    "# 1 - Importer les données"
   ]
  },
  {
   "attachments": {},
   "cell_type": "markdown",
   "metadata": {},
   "source": [
    "Le premier travail est d'importer les données sur les villes.  \n",
    "Les données sont stockées dans un fichier de type tableur (extension .csv)."
   ]
  },
  {
   "attachments": {},
   "cell_type": "markdown",
   "metadata": {},
   "source": [
    "On commence par importer les bibliothèques utiles :"
   ]
  },
  {
   "cell_type": "code",
   "execution_count": null,
   "metadata": {},
   "outputs": [],
   "source": [
    "import csv \n",
    "import requests\n"
   ]
  },
  {
   "attachments": {},
   "cell_type": "markdown",
   "metadata": {},
   "source": [
    "On télécharge ensuite le fichier contenant les données :"
   ]
  },
  {
   "cell_type": "code",
   "execution_count": null,
   "metadata": {},
   "outputs": [],
   "source": [
    "CSV_URL=\"https://raw.githubusercontent.com/CDERYCKE/SNT-Carto/master/worldcities-top100.csv\"\n",
    "download = requests.get(CSV_URL)\n",
    "decoded_content = download.content.decode('utf-8')\n",
    "fichier_villes = decoded_content.splitlines()"
   ]
  },
  {
   "attachments": {},
   "cell_type": "markdown",
   "metadata": {},
   "source": [
    "On range ensuite les données du fichier.csv dans une variable Python : data"
   ]
  },
  {
   "cell_type": "code",
   "execution_count": null,
   "metadata": {},
   "outputs": [],
   "source": [
    "data=[]\n",
    "lire=csv.reader(fichier_villes)                            #chargement des lignes du fichier csv\n",
    "print('Affichage des lignes du tableau',end='\\n')\n",
    "for ligne in lire:                            #Pour chaque ligne... \n",
    "    print(ligne, end='\\n')                    #...affichage de la ligne\n",
    "    data.append(ligne)                     #...on ajoute la ligne dans la liste ...de listes nommée data"
   ]
  },
  {
   "attachments": {},
   "cell_type": "markdown",
   "metadata": {},
   "source": [
    "**Questions :** \n",
    "\n",
    "1) Quels sont les descripteurs ?  \n",
    "2) Quelle est la population de Paris ?  \n",
    "2) Quelle est la ville la plus peuplée ?  \n",
    "3) Quelle est la première ville des USA ?  \n",
    "\n"
   ]
  },
  {
   "attachments": {},
   "cell_type": "markdown",
   "metadata": {},
   "source": [
    "<div class=\"alert alert-warning\" role=\"alert\">\n",
    "    <strong> Travail à faire sur la fiche réponse : </strong> <br>\n",
    "    --> Répondre aux questions<br>\n",
    "</div>"
   ]
  },
  {
   "attachments": {},
   "cell_type": "markdown",
   "metadata": {},
   "source": [
    "# 2 - Comprendre la structure des données"
   ]
  },
  {
   "attachments": {},
   "cell_type": "markdown",
   "metadata": {},
   "source": [
    "Les données sont stockées dans une liste de listes.\n",
    "le premier élément d'une liste a l'indice zéro (en informatique, on commence à compter à zéro). "
   ]
  },
  {
   "cell_type": "code",
   "execution_count": null,
   "metadata": {},
   "outputs": [],
   "source": [
    "data[1]"
   ]
  },
  {
   "cell_type": "code",
   "execution_count": null,
   "metadata": {},
   "outputs": [],
   "source": [
    "data[1][0] # pour accéder au premier élément de la sous liste n°2 "
   ]
  },
  {
   "attachments": {},
   "cell_type": "markdown",
   "metadata": {},
   "source": [
    "**Questions :** \n",
    "\n",
    "1) Que fait l'instruction `data[1]` ?  \n",
    "2) Que contient la première ligne du tableau de données (indice 0) ?  \n",
    "3) Quelle information apporte la première entrée d'une sous liste (indice 0) ?  \n",
    "4) Comment obtenir la population de la ville étudiée ?\n",
    "5) Quel code écrire pour obtenir la population de la 10e ville la plus peuplée ? ( Guangzhou avec 20,9 millions d'habitants ?)  \n",
    "6) Quel code écrire pour obtenir la latitude de la 5e ville la plus peuplée ? (Manila : lat = 14.6000)  \n",
    "7) Quel code écrire pour obtenir la longitude de la 5e ville la plus peuplée ? (Manila : lon = 120.9833)  \n",
    "\n"
   ]
  },
  {
   "cell_type": "code",
   "execution_count": null,
   "metadata": {},
   "outputs": [],
   "source": [
    "# tester votre code ici :\n",
    "data[1][0]"
   ]
  },
  {
   "attachments": {},
   "cell_type": "markdown",
   "metadata": {},
   "source": [
    "<div class=\"alert alert-warning\" role=\"alert\">\n",
    "    <strong> Travail à faire sur la fiche réponse : </strong> <br>\n",
    "    --> Répondre aux questions<br>\n",
    "   \n",
    "</div>"
   ]
  },
  {
   "attachments": {},
   "cell_type": "markdown",
   "metadata": {},
   "source": [
    "# 3 - Affichage des cartes sur la ville\n",
    "\n",
    "On veut maintenant afficher les 20 premières villes de la liste sur une carte :"
   ]
  },
  {
   "cell_type": "code",
   "execution_count": null,
   "metadata": {},
   "outputs": [],
   "source": [
    "import folium"
   ]
  },
  {
   "cell_type": "code",
   "execution_count": null,
   "metadata": {},
   "outputs": [],
   "source": [
    "carte= folium.Map(location=[0, 0],tiles='Stamen Terrain', zoom_start=2)"
   ]
  },
  {
   "attachments": {},
   "cell_type": "markdown",
   "metadata": {},
   "source": [
    "<div class=\"alert alert-warning\" role=\"alert\">\n",
    "    <strong> Travail à faire sur la fiche réponse : </strong> <br>\n",
    "    --> Lire le code ci-dessous<br>\n",
    "    --> Corriger le code pour qu'il place les 20 premières villes sur la carte<br>\n",
    "    --> Recopier le code corrigé sur votre feuille réponse<br>\n",
    "   \n",
    "</div>"
   ]
  },
  {
   "cell_type": "code",
   "execution_count": null,
   "metadata": {},
   "outputs": [],
   "source": [
    "for i in range(1,10):\n",
    "    ville = data[i][0]\n",
    "    population = data[i][ ??? ]\n",
    "    text = ville + '  ' + str(population)\n",
    "    \n",
    "    latitude = data[i][ ??? ]\n",
    "    longitude = data[i][ ??? ]\n",
    "    print( text)\n",
    "    folium.Marker( [latitude,  longitude ], popup=text).add_to(carte)\n",
    "carte.save('maCarte.html') # pour sauvegarder la carte\n",
    "carte # pour afficher la carte "
   ]
  },
  {
   "attachments": {},
   "cell_type": "markdown",
   "metadata": {},
   "source": [
    "# 4 - Améliorations"
   ]
  },
  {
   "attachments": {},
   "cell_type": "markdown",
   "metadata": {},
   "source": [
    "On peut améliorer avec des cercles qui correspondent à la population"
   ]
  },
  {
   "attachments": {},
   "cell_type": "markdown",
   "metadata": {},
   "source": [
    "On peut changer l'icône du marqueur en ajoutant un paramètre `icon` ainsi:\n",
    "\n",
    "`icon=folium.Icon(icon='home', color='blue')` \n",
    "\n",
    "Pour changer l'icône, remplacer `home`\n",
    " des noms suivants :\n",
    "`cloud` `music` `heart` `home` `user` `film` `cog` `road` `time` `ok` `remove` `play` `download` `picture` `question-sign` `fire` `plane` `thumbs-upwrenc` `glob` `eur` `us` \n",
    "`signal` `tree-conifer` `phone` `envelope`"
   ]
  },
  {
   "attachments": {},
   "cell_type": "markdown",
   "metadata": {},
   "source": [
    "La syntaxe pour afficher un cercle est la suivante :  \n",
    "`folium.CircleMarker(location=[latitude, longitude], radius=rayon, popup=text, fill=True, fill_color='Red').add_to(carte2)`\n"
   ]
  },
  {
   "attachments": {},
   "cell_type": "markdown",
   "metadata": {},
   "source": [
    "**Votre travail :**  \n",
    "--> changer l'icone des villes  \n",
    "--> dessiner un cercle dont le rayon représentant la population de la ville"
   ]
  },
  {
   "attachments": {},
   "cell_type": "markdown",
   "metadata": {},
   "source": [
    "<div class=\"alert alert-warning\" role=\"alert\">\n",
    "    <strong> Travail à faire sur la fiche réponse : </strong> <br>\n",
    "    --> Lire le code ci-dessous<br>\n",
    "    --> Corriger le code pour qu'il place les 20 premières villes sur la carte<br>\n",
    "    --> Changer l'icone par une étoile<br>      \n",
    "    --> Tracer un cercle bleu avec un rayon bien choisi ( ni trop grand ni trop petit) mais proportionnel à la population de la ville !<br>  \n",
    "    --> Recopier le code corrigé sur votre feuille réponse<br>\n",
    "   \n",
    "</div>"
   ]
  },
  {
   "cell_type": "code",
   "execution_count": null,
   "metadata": {},
   "outputs": [],
   "source": [
    "# code à lire et à compléter :\n",
    "carte2= folium.Map(location=[0, 0],tiles='Stamen Terrain', zoom_start=2)\n",
    "\n",
    "for i in range(1,11):\n",
    "    ville = data[i][0]\n",
    "    population = int (data[i][4]) # int pour avoir un nombre\n",
    "    text = ville + '  ' + str(population) # str pour avoir du texte à écrire\n",
    "    \n",
    "    latitude = data[i][ 2 ]\n",
    "    longitude = data[i][ 1 ]\n",
    "    folium.Marker( [latitude,  longitude ],\n",
    "                  popup=text,\n",
    "                  icon=folium.Icon(icon='home', color='green'), ).add_to(carte2)\n",
    "\n",
    "    rayon = 30 # ce n'est bien sur pas la bonne réponse                            car celle-ci doit dépendre de la variable population \n",
    "    \n",
    "    folium.CircleMarker(\n",
    "                        location=[latitude, longitude],\n",
    "                        radius=rayon,\n",
    "                        popup=text,\n",
    "                        fill=True,\n",
    "                        fill_color='Red').add_to(carte2)\n",
    "    \n",
    "carte2.save('maCarte2.html') # pour sauvegarder la carte\n",
    "carte2 "
   ]
  },
  {
   "attachments": {},
   "cell_type": "markdown",
   "metadata": {},
   "source": [
    "<div class=\"alert alert-success\" role=\"alert\">\n",
    " <strong> Le travail est terminé !</strong> <br>\n",
    "</div>"
   ]
  }
 ],
 "metadata": {
  "kernelspec": {
   "display_name": "Python 3",
   "language": "python",
   "name": "python3"
  },
  "language_info": {
   "codemirror_mode": {
    "name": "ipython",
    "version": 3
   },
   "file_extension": ".py",
   "mimetype": "text/x-python",
   "name": "python",
   "nbconvert_exporter": "python",
   "pygments_lexer": "ipython3",
   "version": "3.7.9"
  },
  "vscode": {
   "interpreter": {
    "hash": "b6eeb6b1f03c32cfa0173350f0c9eec5370b49107eecd802562d4bc55eed98cb"
   }
  }
 },
 "nbformat": 4,
 "nbformat_minor": 4
}
