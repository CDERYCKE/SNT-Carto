{
 "cells": [
  {
   "cell_type": "markdown",
   "metadata": {},
   "source": [
    "# Villes du monde - Données et cartographie #"
   ]
  },
  {
   "cell_type": "markdown",
   "metadata": {},
   "source": [
    "**Objectif :** afficher une carte avec les 20 plus grandes villes :  "
   ]
  },
  {
   "cell_type": "markdown",
   "metadata": {},
   "source": [
    "<div class=\"alert alert-info\" role=\"alert\">\n",
    "  <strong>Travail à faire sur le notebook : </strong> <br>\n",
    "    Pour les cellules suivantes, appuyez sur <strong>SHIFT + ENTREE </strong>pour lancer le code Python contenu chaque cellule\n",
    "</div>"
   ]
  },
  {
   "cell_type": "markdown",
   "metadata": {},
   "source": [
    "# 1 - Importer les données"
   ]
  },
  {
   "cell_type": "markdown",
   "metadata": {},
   "source": [
    "Le premier travail est d'importer les données sur les villes.  \n",
    "Les données sont stockées dans un fichier de type tableur (extension .csv)."
   ]
  },
  {
   "cell_type": "markdown",
   "metadata": {},
   "source": [
    "On commence par importer les bibliothèques utiles :"
   ]
  },
  {
   "cell_type": "code",
   "execution_count": 1,
   "metadata": {},
   "outputs": [],
   "source": [
    "import csv "
   ]
  },
  {
   "cell_type": "code",
   "execution_count": 2,
   "metadata": {},
   "outputs": [
    {
     "name": "stdout",
     "output_type": "stream",
     "text": [
      "\n",
      "Affichage des lignes du tableau\n",
      "['city', 'lat', 'lng', 'country', 'population', 'id']\n",
      "['Tokyo', '35.6897', '139.6922', 'Japan', '37977000', '1392685764']\n",
      "['Jakarta', '-6.2146', '106.8451', 'Indonesia', '34540000', '1360771077']\n",
      "['Delhi', '28.6600', '77.2300', 'India', '29617000', '1356872604']\n",
      "['Mumbai', '18.9667', '72.8333', 'India', '23355000', '1356226629']\n",
      "['Manila', '14.6000', '120.9833', 'Philippines', '23088000', '1608618140']\n",
      "['Shanghai', '31.1667', '121.4667', 'China', '22120000', '1156073548']\n",
      "['São Paulo', '-23.5504', '-46.6339', 'Brazil', '22046000', '1076532519']\n",
      "['Seoul', '37.5600', '126.9900', 'Korea, South', '21794000', '1410836482']\n",
      "['Mexico City', '19.4333', '-99.1333', 'Mexico', '20996000', '1484247881']\n",
      "['Guangzhou', '23.1288', '113.2590', 'China', '20902000', '1156237133']\n",
      "['Beijing', '39.9050', '116.3914', 'China', '19433000', '1156228865']\n",
      "['Cairo', '30.0561', '31.2394', 'Egypt', '19372000', '1818253931']\n",
      "['New York', '40.6943', '-73.9249', 'United States', '18713220', '1840034016']\n",
      "['Kolkāta', '22.5411', '88.3378', 'India', '17560000', '1356060520']\n",
      "['Moscow', '55.7558', '37.6178', 'Russia', '17125000', '1643318494']\n",
      "['Bangkok', '13.7500', '100.5167', 'Thailand', '17066000', '1764068610']\n",
      "['Buenos Aires', '-34.5997', '-58.3819', 'Argentina', '16157000', '1032717330']\n",
      "['Shenzhen', '22.5350', '114.0540', 'China', '15929000', '1156158707']\n",
      "['Dhaka', '23.7289', '90.3944', 'Bangladesh', '15443000', '1050529279']\n",
      "['Lagos', '6.4500', '3.4000', 'Nigeria', '15279000', '1566593751']\n",
      "['Istanbul', '41.0100', '28.9603', 'Turkey', '15154000', '1792756324']\n",
      "['Ōsaka', '34.7500', '135.4601', 'Japan', '14977000', '1392419823']\n",
      "['Karachi', '24.8600', '67.0100', 'Pakistan', '14835000', '1586129469']\n",
      "['Bangalore', '12.9699', '77.5980', 'India', '13707000', '1356410365']\n",
      "['Tehran', '35.7000', '51.4167', 'Iran', '13633000', '1364305026']\n",
      "['Kinshasa', '-4.3233', '15.3081', 'Congo (Kinshasa)', '13528000', '1180000363']\n",
      "['Ho Chi Minh City', '10.8167', '106.6333', 'Vietnam', '13312000', '1704774326']\n",
      "['Los Angeles', '34.1139', '-118.4068', 'United States', '12750807', '1840020491']\n",
      "['Rio de Janeiro', '-22.9083', '-43.1964', 'Brazil', '12272000', '1076887657']\n",
      "['Nanyang', '32.9987', '112.5292', 'China', '12010000', '1156192287']\n",
      "['Baoding', '38.8671', '115.4845', 'China', '11860000', '1156256829']\n",
      "['Chennai', '13.0825', '80.2750', 'India', '11324000', '1356374944']\n",
      "['Chengdu', '30.6600', '104.0633', 'China', '11309000', '1156421555']\n",
      "['Lahore', '31.5497', '74.3436', 'Pakistan', '11021000', '1586801463']\n",
      "['Paris', '48.8566', '2.3522', 'France', '11020000', '1250015082']\n",
      "['London', '51.5072', '-0.1275', 'United Kingdom', '10979000', '1826645935']\n",
      "['Linyi', '35.0606', '118.3425', 'China', '10820000', '1156086320']\n",
      "['Tianjin', '39.1467', '117.2056', 'China', '10800000', '1156174046']\n",
      "['Shijiazhuang', '38.0422', '114.5086', 'China', '10784600', '1156217541']\n",
      "['Zhoukou', '33.6250', '114.6418', 'China', '9901000', '1156272098']\n",
      "['Lima', '-12.0500', '-77.0333', 'Peru', '9848000', '1604728603']\n",
      "['Hyderābād', '17.3667', '78.4667', 'India', '9746000', '1356871768']\n",
      "['Handan', '36.6116', '114.4894', 'China', '9549700', '1156957080']\n",
      "['Bogotá', '4.6126', '-74.0705', 'Colombia', '9464000', '1170483426']\n",
      "['Weifang', '36.7167', '119.1000', 'China', '9373000', '1156912965']\n",
      "['Nagoya', '35.1167', '136.9333', 'Japan', '9113000', '1392407472']\n",
      "['Wuhan', '30.5872', '114.2881', 'China', '8962000', '1156117184']\n",
      "['Heze', '35.2333', '115.4333', 'China', '8750000', '1156225008']\n",
      "['Ganzhou', '25.8292', '114.9336', 'China', '8677600', '1156832475']\n",
      "['Tongshan', '34.2610', '117.1859', 'China', '8669000', '1156241678']\n",
      "['Chicago', '41.8373', '-87.6862', 'United States', '8604203', '1840000494']\n",
      "['Luanda', '-8.8383', '13.2344', 'Angola', '8417000', '1024949724']\n",
      "['Changsha', '28.1987', '112.9709', 'China', '8394500', '1156961497']\n",
      "['Fuyang', '32.8986', '115.8045', 'China', '8360000', '1156248008']\n",
      "['Kuala Lumpur', '3.1478', '101.6953', 'Malaysia', '8285000', '1458988644']\n",
      "['Jining', '35.4000', '116.5667', 'China', '8023000', '1156504601']\n",
      "['Dongguan', '23.0475', '113.7493', 'China', '7981000', '1156478242']\n",
      "['Jinan', '36.6667', '116.9833', 'China', '7967400', '1156972469']\n",
      "['Foshan', '23.0292', '113.1056', 'China', '7905700', '1156738403']\n",
      "['Hanoi', '21.0245', '105.8412', 'Vietnam', '7785000', '1704413791']\n",
      "['Pune', '18.5196', '73.8553', 'India', '7764000', '1356081074']\n",
      "['Chongqing', '29.5628', '106.5528', 'China', '7739000', '1156936556']\n",
      "['Changchun', '43.9000', '125.2000', 'China', '7674439', '1156078103']\n",
      "['Zhumadian', '32.9773', '114.0253', 'China', '7640000', '1156184822']\n",
      "['Ningbo', '29.8750', '121.5492', 'China', '7639000', '1156170787']\n",
      "['Cangzhou', '38.3037', '116.8452', 'China', '7544300', '1156698069']\n",
      "['Nanjing', '32.0500', '118.7667', 'China', '7496000', '1156644065']\n",
      "['Hefei', '31.8639', '117.2808', 'China', '7457027', '1156332710']\n",
      "['Ahmedabad', '23.0300', '72.5800', 'India', '7410000', '1356304381']\n",
      "['Hong Kong', '22.3050', '114.1850', 'Hong Kong', '7347000', '1344982653']\n",
      "['Zhanjiang', '21.1967', '110.4031', 'China', '7332000', '1156502170']\n",
      "['Shaoyang', '27.2418', '111.4725', 'China', '7302400', '1156310366']\n",
      "['Hengyang', '26.8968', '112.5857', 'China', '7300600', '1156696884']\n",
      "['Khartoum', '15.6031', '32.5265', 'Sudan', '7282000', '1729268475']\n",
      "['Nantong', '31.9829', '120.8873', 'China', '7282835', '1156045365']\n",
      "['Yancheng', '33.3936', '120.1339', 'China', '7260240', '1156995410']\n",
      "['Nanning', '22.8192', '108.3150', 'China', '7153300', '1156605439']\n",
      "['Xi’an', '34.2667', '108.9000', 'China', '7135000', '1156244079']\n",
      "['Shenyang', '41.8039', '123.4258', 'China', '7105000', '1156309382']\n",
      "['Tangshan', '39.6292', '118.1742', 'China', '7100000', '1156904299']\n",
      "['Santiago', '-33.4500', '-70.6667', 'Chile', '7007000', '1152554349']\n",
      "['Zhengzhou', '34.7492', '113.6605', 'China', '7005000', '1156183137']\n",
      "['Shangqiu', '34.4259', '115.6467', 'China', '7000000', '1156805441']\n",
      "['Yantai', '37.3997', '121.2664', 'China', '6968202', '1156932948']\n",
      "['Riyadh', '24.6500', '46.7100', 'Saudi Arabia', '6881000', '1682999334']\n",
      "['Dar es Salaam', '-6.8000', '39.2833', 'Tanzania', '6698000', '1834843853']\n",
      "['Xinyang', '32.1264', '114.0672', 'China', '6634000', '1156273453']\n",
      "['Shangrao', '28.4419', '117.9633', 'China', '6579714', '1156405492']\n",
      "['Luoyang', '34.6587', '112.4245', 'China', '6549941', '1156069315']\n",
      "['Bijie', '27.3019', '105.2863', 'China', '6537498', '1156018927']\n",
      "['Quanzhou', '24.9139', '118.5858', 'China', '6480000', '1156829655']\n",
      "['Hangzhou', '30.2500', '120.1675', 'China', '6446000', '1156275243']\n",
      "['Miami', '25.7839', '-80.2102', 'United States', '6445545', '1840015149']\n",
      "['Huanggang', '30.4500', '114.8750', 'China', '6333000', '1156200037']\n",
      "['Maoming', '21.6618', '110.9178', 'China', '6313200', '1156568722']\n",
      "['Kunming', '25.0433', '102.7061', 'China', '6250000', '1156477539']\n",
      "['Nanchong', '30.7991', '106.0784', 'China', '6183000', '1156762337']\n",
      "['Zunyi', '27.7050', '106.9336', 'China', '6127009', '1156539782']\n",
      "['Jieyang', '23.5533', '116.3649', 'China', '6089400', '1156260378']\n"
     ]
    }
   ],
   "source": [
    "with open('worldcities-top100.csv',newline='') as file:         #Ouverture du fichier csv\n",
    "    data=[]\n",
    "    lire=csv.reader(file)                            #chargement des lignes du fichier csv\n",
    "    print('',end='\\n')\n",
    "    print('Affichage des lignes du tableau',end='\\n')\n",
    "    for ligne in lire:                            #Pour chaque ligne... \n",
    "        print(ligne, end='\\n')                    #...affichage de la ligne\n",
    "        data.append(ligne)                     #...on ajoute la ligne dans la liste ...de listes nommée data"
   ]
  },
  {
   "cell_type": "markdown",
   "metadata": {},
   "source": [
    "**Questions :** \n",
    "\n",
    "1) Quels sont les descipteurs ?  \n",
    "2) Quelle est la population de Paris ?  \n",
    "2) Quelle est la ville la plus peuplée ?  \n",
    "3) Quelle est la première ville des USA ?  \n",
    "\n"
   ]
  },
  {
   "cell_type": "markdown",
   "metadata": {},
   "source": [
    "<div class=\"alert alert-warning\" role=\"alert\">\n",
    "    <strong> Travail à faire sur la fiche réponse : </strong> <br>\n",
    "    --> Répondre aux questions<br>\n",
    "</div>"
   ]
  },
  {
   "cell_type": "markdown",
   "metadata": {},
   "source": [
    "# 2 - Comprendre la structure des données"
   ]
  },
  {
   "cell_type": "markdown",
   "metadata": {},
   "source": [
    "Les données sont stockées dans une liste de listes.\n",
    "le premier élément d'une liste a l'indice zéro (en informatique, on commence à compter à zéro). "
   ]
  },
  {
   "cell_type": "code",
   "execution_count": 4,
   "metadata": {},
   "outputs": [
    {
     "data": {
      "text/plain": [
       "['Tokyo', '35.6897', '139.6922', 'Japan', '37977000', '1392685764']"
      ]
     },
     "execution_count": 4,
     "metadata": {},
     "output_type": "execute_result"
    }
   ],
   "source": [
    "data[1]"
   ]
  },
  {
   "cell_type": "code",
   "execution_count": 5,
   "metadata": {},
   "outputs": [
    {
     "data": {
      "text/plain": [
       "'Tokyo'"
      ]
     },
     "execution_count": 5,
     "metadata": {},
     "output_type": "execute_result"
    }
   ],
   "source": [
    "data[1][0] # pour accéder au premier élément de la sous liste n°2 "
   ]
  },
  {
   "cell_type": "markdown",
   "metadata": {},
   "source": [
    "**Questions :** \n",
    "\n",
    "1) Que fait l'instruction `data[1]` ?  \n",
    "2) Que contient la première ligne du tableau de données (indice 0) ?  \n",
    "3) Quelle information apporte la première entrée d'une sous liste (indice 0) ?  \n",
    "4) Comment obtenir la population de la ville étudiée ?\n",
    "5) Quel code écrire pour obtenir la population de la 10e ville la plus peuplée ? ( Guangzhou avec 20,9 millions d'habitants ?)  \n",
    "6) Quel code écrire pour obtenir la latitude de la 5e ville la plus peuplée ? (Manila : lat = 14.6000)  \n",
    "7) Quel code écrire pour obtenir la longitude de la 5e ville la plus peuplée ? (Manila : lon = 120.9833)  \n",
    "\n"
   ]
  },
  {
   "cell_type": "code",
   "execution_count": 6,
   "metadata": {},
   "outputs": [
    {
     "data": {
      "text/plain": [
       "'Tokyo'"
      ]
     },
     "execution_count": 6,
     "metadata": {},
     "output_type": "execute_result"
    }
   ],
   "source": [
    "# tester votre code ici :\n",
    "data[1][0]"
   ]
  },
  {
   "cell_type": "markdown",
   "metadata": {},
   "source": [
    "<div class=\"alert alert-warning\" role=\"alert\">\n",
    "    <strong> Travail à faire sur la fiche réponse : </strong> <br>\n",
    "    --> Répondre aux questions<br>\n",
    "   \n",
    "</div>"
   ]
  },
  {
   "cell_type": "markdown",
   "metadata": {},
   "source": [
    "# 3 - Affichage des cartes sur la ville\n",
    "\n",
    "On veut maintenant afficher les 20 premières villes de la liste sur une carte :"
   ]
  },
  {
   "cell_type": "code",
   "execution_count": 7,
   "metadata": {},
   "outputs": [],
   "source": [
    "import folium"
   ]
  },
  {
   "cell_type": "code",
   "execution_count": 8,
   "metadata": {},
   "outputs": [],
   "source": [
    "carte= folium.Map(location=[0, 0],tiles='Stamen Terrain', zoom_start=2)"
   ]
  },
  {
   "cell_type": "markdown",
   "metadata": {},
   "source": [
    "<div class=\"alert alert-warning\" role=\"alert\">\n",
    "    <strong> Travail à faire sur la fiche réponse : </strong> <br>\n",
    "    --> Lire le code ci-dessous<br>\n",
    "    --> Corriger le code pour qu'il place les 20 premières villes sur la carte<br>\n",
    "    --> Recopier le code corrigé sur votre feuille réponse<br>\n",
    "   \n",
    "</div>"
   ]
  },
  {
   "cell_type": "code",
   "execution_count": 9,
   "metadata": {},
   "outputs": [
    {
     "ename": "SyntaxError",
     "evalue": "invalid syntax (<ipython-input-9-3e5eb1d6afe6>, line 3)",
     "output_type": "error",
     "traceback": [
      "\u001b[0;36m  File \u001b[0;32m\"<ipython-input-9-3e5eb1d6afe6>\"\u001b[0;36m, line \u001b[0;32m3\u001b[0m\n\u001b[0;31m    population = data[i][ ??? ]\u001b[0m\n\u001b[0m                          ^\u001b[0m\n\u001b[0;31mSyntaxError\u001b[0m\u001b[0;31m:\u001b[0m invalid syntax\n"
     ]
    }
   ],
   "source": [
    "for i in range(1,10):\n",
    "    ville = data[i][0]\n",
    "    population = data[i][ ??? ]\n",
    "    text = ville + '  ' + str(population)\n",
    "    \n",
    "    latitude = data[i][ ??? ]\n",
    "    longitude = data[i][ ??? ]\n",
    "    print( text)\n",
    "    folium.Marker( [latitude,  longitude ], popup=text).add_to(carte)\n",
    "carte.save('maCarte.html') # pour sauvegarder la carte\n",
    "carte # pour afficher la carte "
   ]
  },
  {
   "cell_type": "code",
   "execution_count": 10,
   "metadata": {},
   "outputs": [
    {
     "name": "stdout",
     "output_type": "stream",
     "text": [
      "Tokyo  37977000\n",
      "Jakarta  34540000\n",
      "Delhi  29617000\n",
      "Mumbai  23355000\n",
      "Manila  23088000\n",
      "Shanghai  22120000\n",
      "São Paulo  22046000\n",
      "Seoul  21794000\n",
      "Mexico City  20996000\n",
      "Guangzhou  20902000\n",
      "Beijing  19433000\n",
      "Cairo  19372000\n",
      "New York  18713220\n",
      "Kolkāta  17560000\n",
      "Moscow  17125000\n",
      "Bangkok  17066000\n",
      "Buenos Aires  16157000\n",
      "Shenzhen  15929000\n",
      "Dhaka  15443000\n",
      "Lagos  15279000\n"
     ]
    },
    {
     "data": {
      "text/html": [
       "<div style=\"width:100%;\"><div style=\"position:relative;width:100%;height:0;padding-bottom:60%;\"><iframe src=\"data:text/html;charset=utf-8;base64,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\" style=\"position:absolute;width:100%;height:100%;left:0;top:0;border:none !important;\" allowfullscreen webkitallowfullscreen mozallowfullscreen></iframe></div></div>"
      ],
      "text/plain": [
       "<folium.folium.Map at 0x7fe4a4ae5750>"
      ]
     },
     "execution_count": 10,
     "metadata": {},
     "output_type": "execute_result"
    }
   ],
   "source": [
    "# correction\n",
    "\n",
    "for i in range(1,21):\n",
    "    ville = data[i][0]\n",
    "    population = data[i][ 4 ]\n",
    "    text = ville + '  ' + str(population)\n",
    "    \n",
    "    latitude = data[i][ 1 ]\n",
    "    longitude = data[i][ 2 ]\n",
    "    print( text)\n",
    "    folium.Marker( [latitude,  longitude ], popup=text).add_to(carte)\n",
    "carte.save('maCarte.html') # pour sauvegarder la carte\n",
    "carte # pour afficher la carte "
   ]
  },
  {
   "cell_type": "markdown",
   "metadata": {},
   "source": [
    "# 4 - Améliorations"
   ]
  },
  {
   "cell_type": "markdown",
   "metadata": {},
   "source": [
    "On peut améliorer avec des cercles qui correspondent à la population"
   ]
  },
  {
   "cell_type": "markdown",
   "metadata": {},
   "source": [
    "On peut changer l'icône du marqueur en ajoutant un paramètre `icon` ainsi:\n",
    "\n",
    "`icon=folium.Icon(icon='home', color='blue')` \n",
    "\n",
    "Pour changer l'icône, remplacer `home`\n",
    " des noms suivants :\n",
    "`cloud` `music` `heart` `home` `user` `film` `cog` `road` `time` `ok` `remove` `play` `download` `picture` `question-sign` `fire` `plane` `thumbs-upwrenc` `glob` `eur` `us` \n",
    "`signal` `tree-conifer` `phone` `envelope`"
   ]
  },
  {
   "cell_type": "markdown",
   "metadata": {},
   "source": [
    "La syntaxe pour afficher un cercle est la suivante :  \n",
    "`folium.CircleMarker(location=[latitude, longitude], radius=rayon, popup=text, fill=True, fill_color='Red').add_to(carte2)`\n"
   ]
  },
  {
   "cell_type": "markdown",
   "metadata": {},
   "source": [
    "**Votre travail :**  \n",
    "--> changer l'icone des villes  \n",
    "--> dessiner un cercle dont le rayon représentant la population de la ville"
   ]
  },
  {
   "cell_type": "markdown",
   "metadata": {},
   "source": [
    "<div class=\"alert alert-warning\" role=\"alert\">\n",
    "    <strong> Travail à faire sur la fiche réponse : </strong> <br>\n",
    "    --> Lire le code ci-dessous<br>\n",
    "    --> Corriger le code pour qu'il place les 20 premières villes sur la carte<br>\n",
    "    --> Changer l'icone par une étoile<br>      \n",
    "    --> Tracer un cercle bleu avec un rayon bien choisi ( ni trop grand ni trop petit) mais proportionnel à la population de la ville !<br>  \n",
    "    --> Recopier le code corrigé sur votre feuille réponse<br>\n",
    "   \n",
    "</div>"
   ]
  },
  {
   "cell_type": "code",
   "execution_count": null,
   "metadata": {},
   "outputs": [],
   "source": [
    "# code à lire et à compléter :\n",
    "carte2= folium.Map(location=[0, 0],tiles='Stamen Terrain', zoom_start=2)\n",
    "\n",
    "for i in range(1,11):\n",
    "    ville = data[i][0]\n",
    "    population = int (data[i][4]) # int pour avoir un nombre\n",
    "    text = ville + '  ' + str(population) # str pour avoir du texte à écrire\n",
    "    \n",
    "    latitude = data[i][ 2 ]\n",
    "    longitude = data[i][ 1 ]\n",
    "    folium.Marker( [latitude,  longitude ],\n",
    "                  popup=text,\n",
    "                  icon=folium.Icon(icon='home', color='green'), ).add_to(carte2)\n",
    "\n",
    "    rayon = 30 # ce n'est bien sur pas la bonne réponse                            car celle-ci doit dépendre de la variable population \n",
    "    \n",
    "    folium.CircleMarker(\n",
    "                        location=[latitude, longitude],\n",
    "                        radius=rayon,\n",
    "                        popup=text,\n",
    "                        fill=True,\n",
    "                        fill_color='Red').add_to(carte2)\n",
    "    \n",
    "carte2.save('maCarte2.html') # pour sauvegarder la carte\n",
    "carte2 "
   ]
  },
  {
   "cell_type": "code",
   "execution_count": 11,
   "metadata": {},
   "outputs": [
    {
     "data": {
      "text/html": [
       "<div style=\"width:100%;\"><div style=\"position:relative;width:100%;height:0;padding-bottom:60%;\"><iframe src=\"data:text/html;charset=utf-8;base64,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\" style=\"position:absolute;width:100%;height:100%;left:0;top:0;border:none !important;\" allowfullscreen webkitallowfullscreen mozallowfullscreen></iframe></div></div>"
      ],
      "text/plain": [
       "<folium.folium.Map at 0x7fe4a5f74510>"
      ]
     },
     "execution_count": 11,
     "metadata": {},
     "output_type": "execute_result"
    }
   ],
   "source": [
    "# correction\n",
    "\n",
    "carte2= folium.Map(location=[0, 0],tiles='Stamen Terrain', zoom_start=2)\n",
    "\n",
    "for i in range(1,21):\n",
    "    ville = data[i][0]\n",
    "    population = int (data[i][4]) # int pour avoir un nombre\n",
    "    text = ville + '  ' + str(population) # str pour avoir du texte à écrire\n",
    "    \n",
    "    latitude = data[i][ 1 ]\n",
    "    longitude = data[i][ 2 ]\n",
    "    folium.Marker( [latitude,  longitude ],\n",
    "                  popup=text,\n",
    "                  icon=folium.Icon(icon='home', color='green'), ).add_to(carte2)\n",
    "\n",
    "    rayon = population/1000000 # ce n'est bien sur pas la bonne réponse                            car celle-ci doit dépendre de la variable population \n",
    "    \n",
    "    folium.CircleMarker(\n",
    "                        location=[latitude, longitude],\n",
    "                        radius=rayon,\n",
    "                        popup=text,\n",
    "                        fill=True,\n",
    "                        fill_color='Red').add_to(carte2)\n",
    "    \n",
    "carte2.save('maCarte2.html') # pour sauvegarder la carte\n",
    "carte2 "
   ]
  },
  {
   "cell_type": "markdown",
   "metadata": {},
   "source": [
    "<div class=\"alert alert-success\" role=\"alert\">\n",
    " <strong> Le travail est terminé !</strong> <br>\n",
    "</div>"
   ]
  }
 ],
 "metadata": {
  "kernelspec": {
   "display_name": "Python 3",
   "language": "python",
   "name": "python3"
  },
  "language_info": {
   "codemirror_mode": {
    "name": "ipython",
    "version": 3
   },
   "file_extension": ".py",
   "mimetype": "text/x-python",
   "name": "python",
   "nbconvert_exporter": "python",
   "pygments_lexer": "ipython3",
   "version": "3.7.9"
  },
  "vscode": {
   "interpreter": {
    "hash": "b6eeb6b1f03c32cfa0173350f0c9eec5370b49107eecd802562d4bc55eed98cb"
   }
  }
 },
 "nbformat": 4,
 "nbformat_minor": 4
}
