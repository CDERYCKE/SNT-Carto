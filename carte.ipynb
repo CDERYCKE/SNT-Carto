{
 "cells": [
  {
   "cell_type": "markdown",
   "metadata": {},
   "source": [
    "## Création d'une carte personnalisée avec Python et folium"
   ]
  },
  {
   "cell_type": "markdown",
   "metadata": {},
   "source": [
    "On commence par importer le module qui s'occupe de l'affichage des cartes"
   ]
  },
  {
   "cell_type": "markdown",
   "metadata": {},
   "source": [
    "<div class=\"alert alert-info\" role=\"alert\">\n",
    "  <strong>Travail à faire sur le notebook : </strong> <br>\n",
    "    Pour les cellules suivantes, appuyez sur shift entrée pour lancer le code Python contenu chaque cellule\n",
    "</div>"
   ]
  },
  {
   "cell_type": "code",
   "execution_count": null,
   "metadata": {},
   "outputs": [],
   "source": [
    "import folium"
   ]
  },
  {
   "cell_type": "markdown",
   "metadata": {},
   "source": [
    "On crée un carte de cette façon :\n",
    "attention à bien utiliser le séparateur . pour les nombres décimaux"
   ]
  },
  {
   "cell_type": "code",
   "execution_count": null,
   "metadata": {},
   "outputs": [],
   "source": [
    "latitude = 48.85826\n",
    "longitude = 2.2944991\n",
    "macarte = folium.Map(location=[latitude,longitude],zoom_start=12)\n",
    "folium.Marker([latitude,longitude],popup=\"Tour Eiffel\").add_to(macarte)\n",
    "macarte"
   ]
  },
  {
   "cell_type": "markdown",
   "metadata": {},
   "source": [
    "<div class=\"alert alert-warning\" role=\"alert\">\n",
    "\n",
    "<strong> Votre travail :</strong> <br> \n",
    "\n",
    "--> Ecrire le code python (copier coller et modifier)\n",
    "pour une ville commençant par la première lettre de votre prénom avec un zoom plus puissant et le pop up approprié.\n",
    "\n",
    "Aide pour trouver une ville :\n",
    "https://fr.wikipedia.org/wiki/Listes_des_villes_du_monde\n",
    "\n",
    "--> tester votre code et recopier-le sur votre fiche de TP."
   ]
  },
  {
   "cell_type": "code",
   "execution_count": null,
   "metadata": {},
   "outputs": [],
   "source": []
  },
  {
   "cell_type": "code",
   "execution_count": null,
   "metadata": {},
   "outputs": [],
   "source": []
  },
  {
   "cell_type": "code",
   "execution_count": null,
   "metadata": {},
   "outputs": [],
   "source": []
  }
 ],
 "metadata": {
  "kernelspec": {
   "display_name": "Python 3",
   "language": "python",
   "name": "python3"
  },
  "language_info": {
   "codemirror_mode": {
    "name": "ipython",
    "version": 3
   },
   "file_extension": ".py",
   "mimetype": "text/x-python",
   "name": "python",
   "nbconvert_exporter": "python",
   "pygments_lexer": "ipython3",
   "version": "3.7.9"
  },
  "nteract": {
   "version": "0.22.0"
  }
 },
 "nbformat": 4,
 "nbformat_minor": 4
}
