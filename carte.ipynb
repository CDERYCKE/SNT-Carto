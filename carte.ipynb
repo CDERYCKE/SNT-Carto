{
 "cells": [
  {
   "cell_type": "markdown",
   "metadata": {},
   "source": [
    "## 1 - Création d'une carte personnalisée avec Python et folium"
   ]
  },
  {
   "cell_type": "markdown",
   "metadata": {},
   "source": [
    "On commence par importer le module qui s'occupe de l'affichage des cartes"
   ]
  },
  {
   "cell_type": "markdown",
   "metadata": {},
   "source": [
    "<div class=\"alert alert-info\" role=\"alert\">\n",
    "  <strong>Travail à faire sur le notebook : </strong> <br>\n",
    "    Pour les cellules suivantes, appuyez sur <strong>SHIFT + ENTREE </strong>pour lancer le code Python contenu chaque cellule\n",
    "</div>"
   ]
  },
  {
   "cell_type": "code",
   "execution_count": null,
   "metadata": {},
   "outputs": [],
   "source": [
    "import folium"
   ]
  },
  {
   "cell_type": "markdown",
   "metadata": {},
   "source": [
    "On crée un carte de cette façon :\n",
    "attention à bien utiliser le séparateur . pour les nombres décimaux"
   ]
  },
  {
   "cell_type": "code",
   "execution_count": null,
   "metadata": {},
   "outputs": [],
   "source": [
    "latitude = 48.85826\n",
    "longitude = 2.2944991\n",
    "macarte = folium.Map(location=[latitude,longitude],zoom_start=12)\n",
    "folium.Marker([latitude,longitude],popup=\"Tour Eiffel\").add_to(macarte)\n",
    "macarte"
   ]
  },
  {
   "cell_type": "markdown",
   "metadata": {},
   "source": [
    "**Votre travail :**\n",
    "\n",
    "Ecrire le code python (copier coller et modifier)\n",
    "pour une ville commençant par la première lettre de votre prénom avec un zoom plus puissant et le pop up approprié.\n",
    "\n",
    "Aide pour trouver une ville :\n",
    "https://fr.wikipedia.org/wiki/Listes_des_villes_du_monde\n",
    "\n",
    "tester votre code et recopier-le sur votre fiche de TP."
   ]
  },
  {
   "cell_type": "markdown",
   "metadata": {},
   "source": [
    "<div class=\"alert alert-info\" role=\"alert\">\n",
    "  <strong>Travail à faire sur le notebook : </strong> <br>\n",
    "   --> Recopier et modifier le code ci-dessus pour qu'il accomplisse le travail demandé<br>\n",
    "   --> Faire vérifier<br>\n",
    "    \n",
    "</div>"
   ]
  },
  {
   "cell_type": "code",
   "execution_count": null,
   "metadata": {},
   "outputs": [],
   "source": [
    "# recopier et modifier le code du début pour les tester \n",
    "\n"
   ]
  },
  {
   "cell_type": "markdown",
   "metadata": {},
   "source": [
    "On peut sauvegarder sa carte personnalisée :"
   ]
  },
  {
   "cell_type": "code",
   "execution_count": null,
   "metadata": {},
   "outputs": [],
   "source": [
    "macarte.save('maCarte.html')"
   ]
  },
  {
   "cell_type": "markdown",
   "metadata": {},
   "source": [
    "## 2 - Calcul d'un itinéraire avec Python et folium + pyroute"
   ]
  },
  {
   "cell_type": "code",
   "execution_count": null,
   "metadata": {},
   "outputs": [],
   "source": [
    "#!pip install pyroutelib3 # pour installer la bibliothèque de calcul d'itinéraire"
   ]
  },
  {
   "cell_type": "code",
   "execution_count": null,
   "metadata": {},
   "outputs": [],
   "source": [
    "from pyroutelib3 import Router\n",
    "router = Router(\"car\") # autres moyens de transport : cycle, foot, horse, tram, train"
   ]
  },
  {
   "cell_type": "code",
   "execution_count": null,
   "metadata": {},
   "outputs": [],
   "source": [
    "#ville de départ = Arras\n",
    "lat1=50.290355\n",
    "lon1=2.77722\n",
    "\n",
    "#ville d'arrivée = Lille\n",
    "lat2=50.629925\n",
    "lon2=3.069305"
   ]
  },
  {
   "cell_type": "code",
   "execution_count": null,
   "metadata": {},
   "outputs": [],
   "source": [
    "depart = router.findNode(lat1, lon1)\n",
    "arrivee = router.findNode(lat2, lon2)\n",
    "status, route = router.doRoute(depart, arrivee)\n",
    "\n",
    "if status == 'success':\n",
    "    routeLatLons = list(map(router.nodeLatLon, route))\n",
    "\n",
    "# le processus peut prendre plusieurs minutes ....    \n",
    "    \n",
    "print(routeLatLons) # pour afficher le résultat des calculs"
   ]
  },
  {
   "cell_type": "markdown",
   "metadata": {},
   "source": [
    "**Qu'a-t-on obtenu ?**\n",
    "\n",
    "des coordonnées (latitude, longitude) des points à suivre pour atteindre le plus efficacemetn possible le point d'arrivée.\n",
    "\n",
    "**Que faire ensuite ?**\n",
    "\n",
    "représenter ces points sur une carte\n",
    "\n",
    "\n",
    "ça a l'air long, répétitif et fastidieux.... c'est donc un travail idéal pour un ordinateur... bien programmé"
   ]
  },
  {
   "cell_type": "code",
   "execution_count": null,
   "metadata": {},
   "outputs": [],
   "source": [
    "itinéraire = folium.Map(location=[50.290355, 2.77722],zoom_start=10) # on crée une nouvelle carte\n",
    "\n",
    "# on utilise une boucle pour un processus qui se répète\n",
    "\n",
    "for coord in routeLatLons:\n",
    "    coord=list(coord)\n",
    "    folium.Marker(coord).add_to(itinéraire)\n",
    "    itinéraire.save('monitineraire.html')\n",
    "\n",
    "# ça prend du temps\n",
    "itinéraire"
   ]
  },
  {
   "cell_type": "markdown",
   "metadata": {},
   "source": [
    "On peut ensuite récupérer le fichier html obtenu avec un navigateur à partir de l'explorateur de fichier.  \n",
    "le fichier est dans le même répertoire que le notebook."
   ]
  },
  {
   "cell_type": "markdown",
   "metadata": {},
   "source": [
    "<div class=\"alert alert-info\" role=\"alert\">\n",
    "  <strong>Travail à faire sur le notebook : </strong> <br>\n",
    "   --> Modifier le code ci-dessous pour qu'il accomplisse le travail demandé<br>\n",
    "   --> Faire vérifier<br>\n",
    "    \n",
    "</div>"
   ]
  },
  {
   "cell_type": "markdown",
   "metadata": {},
   "source": [
    "--> Modifier le code pour trouver l'itinéraire entre Arras et Berck à vélo."
   ]
  },
  {
   "cell_type": "code",
   "execution_count": null,
   "metadata": {},
   "outputs": [],
   "source": [
    "router = Router(\"car\") \n",
    "#ville de départ = Arras\n",
    "lat1=50.290355\n",
    "lon1=2.77722\n",
    "\n",
    "#ville d'arrivée = Lille\n",
    "lat2=50.629925\n",
    "lon2=3.069305\n",
    "\n",
    "depart = router.findNode(lat1, lon1)\n",
    "arrivee = router.findNode(lat2, lon2)\n",
    "status, route = router.doRoute(depart, arrivee)\n",
    "\n",
    "if status == 'success':\n",
    "    routeLatLons = list(map(router.nodeLatLon, route))\n",
    "    \n",
    "a_velo = folium.Map(location=[50.290355, 2.77722],zoom_start=10) \n",
    "\n",
    "\n",
    "for coord in routeLatLons:\n",
    "    coord=list(coord)\n",
    "    folium.Marker(coord).add_to(a_velo)\n",
    "    a_velo.save('monitineraire.html')\n",
    "\n",
    "# ça prend du temps...\n",
    "a_velo"
   ]
  },
  {
   "cell_type": "markdown",
   "metadata": {},
   "source": [
    "<div class=\"alert alert-success\" role=\"alert\">\n",
    " <strong> Le travail est terminé !</strong> <br>\n",
    "</div>"
   ]
  },
  {
   "cell_type": "markdown",
   "metadata": {},
   "source": [
    "La fonction CircleMarker() permet elle de créer des cercles, en donnant la localisation du centre et le rayon (via le paramètre radius).  \n",
    "Idem que pour Marker(), on peut spécifier le contenu de la popup affichée lors d'un clic, et il est nécessaire de l'ajouter à la carte.   \n",
    "Il est possible aussi de spécifier la couleur du cercle (via color) et la couleur de remplissage (via fillColor).\n"
   ]
  },
  {
   "cell_type": "code",
   "execution_count": null,
   "metadata": {},
   "outputs": [],
   "source": [
    "paris = folium.Map(location = [48.856578, 2.351828], zoom_start = 12)\n",
    "\n",
    "folium.CircleMarker([48.856578, 2.351828], popup = \"PARIS\", radius = 10).add_to(paris)\n",
    "paris\n"
   ]
  }
 ],
 "metadata": {
  "kernelspec": {
   "display_name": "Python 3",
   "language": "python",
   "name": "python3"
  },
  "language_info": {
   "codemirror_mode": {
    "name": "ipython",
    "version": 3
   },
   "file_extension": ".py",
   "mimetype": "text/x-python",
   "name": "python",
   "nbconvert_exporter": "python",
   "pygments_lexer": "ipython3",
   "version": "3.7.9"
  }
 },
 "nbformat": 4,
 "nbformat_minor": 4
}
