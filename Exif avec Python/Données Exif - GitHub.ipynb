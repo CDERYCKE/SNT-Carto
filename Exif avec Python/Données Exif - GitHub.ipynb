{
 "cells": [
  {
   "cell_type": "markdown",
   "metadata": {},
   "source": [
    "# Données Exif\n",
    "\n",
    "La plupart des appareils photos récents et téléphones portables enregistrent les photographies avec des données géographiques (longitude, latitude, mais aussi altitude). Si ces données sont lisibles avec la majorité des logiciels photos et d’explorateurs de fichiers, il est également possible d’y accéder avec Python."
   ]
  },
  {
   "cell_type": "markdown",
   "metadata": {},
   "source": [
    "Voici l'image que nous allons étudier :\n",
    "![](images/thorsmork_small.jpg)"
   ]
  },
  {
   "cell_type": "markdown",
   "metadata": {},
   "source": [
    "La cellule suivante est très importante, elle va permettre d'installer le module pillow qui permet de traiter les images. L'installation peut prendre un peu de temps."
   ]
  },
  {
   "cell_type": "code",
   "execution_count": null,
   "metadata": {},
   "outputs": [],
   "source": [
    "!pip install pillow"
   ]
  },
  {
   "cell_type": "markdown",
   "metadata": {},
   "source": [
    "On importe alors les modules nécessaires :"
   ]
  },
  {
   "cell_type": "code",
   "execution_count": null,
   "metadata": {},
   "outputs": [],
   "source": [
    "from PIL import Image # On importe le module Image de la bibliothèque PIL\n",
    "from PIL.ExifTags import TAGS, GPSTAGS # on importe les modules de gestion des tags EXIF"
   ]
  },
  {
   "cell_type": "raw",
   "metadata": {},
   "source": [
    "On ouvre l'image pour voir à quoi elle ressemble :"
   ]
  },
  {
   "cell_type": "code",
   "execution_count": null,
   "metadata": {},
   "outputs": [],
   "source": [
    "img=Image.open(\"images/thorsmork.jpg\") #on charge en mémoire l'image à étudier\n",
    "img # affiche l'image taille réelle"
   ]
  },
  {
   "cell_type": "markdown",
   "metadata": {},
   "source": [
    "A l'aide des cellules suivantes, répondre aux questions suivantes sur la fiche réponse :\n",
    "***\n",
    "\n",
    "1) Quel appareil photo a pris cette photographie ?\n",
    "\n",
    "2) la largeur de l'image en pixel\n",
    "\n",
    "3) la hauteur de l'image en pixel\n",
    "\n",
    "4) la date et l'heure de la prise de vue\n",
    "\n",
    "***\n",
    "\n"
   ]
  },
  {
   "cell_type": "markdown",
   "metadata": {},
   "source": [
    "On peut connaitre l'ensemble des clés EXIF :\n",
    "https://www.exiv2.org/tags.html\n"
   ]
  },
  {
   "cell_type": "code",
   "execution_count": null,
   "metadata": {},
   "outputs": [],
   "source": [
    "exif_data = img._getexif() # permet de récupérer les données EXIF"
   ]
  },
  {
   "cell_type": "code",
   "execution_count": null,
   "metadata": {},
   "outputs": [],
   "source": [
    "exif_data # affiche les données EXIF récupérées"
   ]
  },
  {
   "cell_type": "markdown",
   "metadata": {},
   "source": [
    "La clé \"34853\" n'est pas tout le temps présente puisqu'il s'agit des coordonnées (latitude, longitude) de la prise de vue, il faut donc que l'appareil photo intègre un GPS (ce qui est le cas des smartphones), si étudions cette clé \"34853\", nous obtenons les informations suivantes :\n",
    "\n",
    "ligne 1 : précise que nous sommes dans l'hémisphère Nord\n",
    "ligne 2 : nous avons la latitude ((47, 1), (37, 1), (29107360, 1000000)) nous avons ici une latitude en degrés, minute, seconde (ici : 47 degrés 37 minutes et 29,107360 secondes, aussi noté 47°37'29,107360\")\n",
    "ligne 3 : précise que nous sommes à l'ouest (W) du méridien de Greenwich\n",
    "ligne 4 : nous avons la longitude ((3, 1), (25, 1), (42976570, 1000000) ici aussi la longitude est donnée en degrés, minute, seconde (ici : 3°25'42,976570\")"
   ]
  },
  {
   "cell_type": "code",
   "execution_count": null,
   "metadata": {},
   "outputs": [],
   "source": [
    "exif_data[34853] # affiche uniquement les données de la clé 34853 correspondant aux données GPS"
   ]
  },
  {
   "cell_type": "code",
   "execution_count": null,
   "metadata": {},
   "outputs": [],
   "source": [
    "exif_data[34853][1] # affiche l'information de la clé 1"
   ]
  },
  {
   "cell_type": "code",
   "execution_count": null,
   "metadata": {},
   "outputs": [],
   "source": [
    "exif_data[34853][2] # affiche l'information de la clé 2"
   ]
  },
  {
   "cell_type": "code",
   "execution_count": null,
   "metadata": {},
   "outputs": [],
   "source": [
    "exif_data[34853][2][0] # affiche la première information de la clé 2"
   ]
  },
  {
   "cell_type": "markdown",
   "metadata": {},
   "source": [
    "cette clé correspond à 63 * 1 degré"
   ]
  },
  {
   "cell_type": "markdown",
   "metadata": {},
   "source": [
    "Pour convertir des (degrés, minute, seconde aussi noté DMS) en \"degrés décimaux\" (DD) (unité que nous avons utilisée dans le module \"cartographie\"), il faut appliquer la formule suivante :\n",
    "DD = degrés+(minute/60)+(seconde/3600)\n",
    "\n",
    "ATTENTION : pour que la conversion soit correcte, il faut ajouter un signe moins devant la longitude au format DD si nous sommes situés à l'ouest du méridien de Greenwich."
   ]
  },
  {
   "cell_type": "markdown",
   "metadata": {},
   "source": [
    "On définit une fonction pour effectuer pour nous la conversion en degrés :\n",
    "((63, 1), (409847, 10000), (0, 1)) correspond à :\n",
    "\n",
    "63/1 degrés + (409847 /10000 ) minutes + (0/1) secondes  \n",
    "soit un calcul à faire :\n",
    "\n",
    "\n",
    "$$ \\frac{63}{1} + \\frac{409847}{10000} *\\frac{1}{60} + \\frac{0}{1} * \\frac{1}{3600}$$"
   ]
  },
  {
   "cell_type": "code",
   "execution_count": null,
   "metadata": {},
   "outputs": [],
   "source": [
    "def _en_degres(value): # value est ici un objet particulier : un tuple de tuples ?\n",
    "    \n",
    "    d0 = float(value[0][0]) # prend la valeur des degrés en nombre\n",
    "    d1 = float(value[0][1]) # prend le coefficient multiplicateur\n",
    "    d = d0 / d1 # on obtient les degrés\n",
    "\n",
    "    m0 = float(value[1][0]) # prend la valeur des minutes en nombre\n",
    "    m1 = float(value[1][1])\n",
    "    m = m0 / m1 # on obtient les minutes\n",
    "\n",
    "    s0 = float(value[2][0]) # prend la valeur des secondes en nombre\n",
    "    s1 = float(value[2][1])\n",
    "    s = s0 / s1 # on récupère les secondes\n",
    "\n",
    "    return ( d + (m / 60.0) + (s / 3600.0) )"
   ]
  },
  {
   "cell_type": "markdown",
   "metadata": {},
   "source": [
    "on essaie pour tester si la fonction \"fonctionne\" :"
   ]
  },
  {
   "cell_type": "code",
   "execution_count": null,
   "metadata": {},
   "outputs": [],
   "source": [
    "_en_degres(exif_data[34853][2])"
   ]
  },
  {
   "cell_type": "markdown",
   "metadata": {},
   "source": [
    "autres méthodes / essais :"
   ]
  },
  {
   "cell_type": "code",
   "execution_count": null,
   "metadata": {},
   "outputs": [],
   "source": [
    "ret = {}\n",
    "for tag, value in exif_data.items():\n",
    "        decoded = TAGS.get(tag, tag)\n",
    "        ret[decoded] = value\n",
    "ret"
   ]
  },
  {
   "cell_type": "code",
   "execution_count": null,
   "metadata": {},
   "outputs": [],
   "source": [
    "ret['GPSInfo']\n"
   ]
  },
  {
   "cell_type": "code",
   "execution_count": null,
   "metadata": {},
   "outputs": [],
   "source": []
  },
  {
   "cell_type": "code",
   "execution_count": null,
   "metadata": {},
   "outputs": [],
   "source": []
  },
  {
   "cell_type": "markdown",
   "metadata": {},
   "source": [
    "on récupère les infos GPS utiles"
   ]
  },
  {
   "cell_type": "code",
   "execution_count": null,
   "metadata": {},
   "outputs": [],
   "source": [
    "gps_latitude = exif_data[34853][2]\n",
    "gps_latitude_ref = exif_data[34853][1]\n",
    "gps_longitude = exif_data[34853][4]\n",
    "gps_longitude_ref = exif_data[34853][3]\n",
    "\n",
    "gps_latitude_ref"
   ]
  },
  {
   "cell_type": "markdown",
   "metadata": {},
   "source": [
    "On convertit les angles en degrés :"
   ]
  },
  {
   "cell_type": "code",
   "execution_count": null,
   "metadata": {},
   "outputs": [],
   "source": [
    "latitude = _en_degres(gps_latitude)\n",
    "longitude = _en_degres(gps_longitude)\n",
    "\n"
   ]
  },
  {
   "cell_type": "markdown",
   "metadata": {},
   "source": [
    "on fait attention au point cardinal de référence :\n"
   ]
  },
  {
   "cell_type": "code",
   "execution_count": null,
   "metadata": {},
   "outputs": [],
   "source": [
    "if gps_latitude_ref != \"N\":                     \n",
    "                latitude = 0 - latitude\n",
    "if gps_longitude_ref != \"E\":\n",
    "                longitude = 0 - longitude\n"
   ]
  },
  {
   "cell_type": "code",
   "execution_count": null,
   "metadata": {},
   "outputs": [],
   "source": [
    "print(f\"la latitude est :{latitude} , la longitude est {longitude} \")"
   ]
  },
  {
   "cell_type": "markdown",
   "metadata": {},
   "source": [
    "Essai de géolocalisation :"
   ]
  },
  {
   "cell_type": "markdown",
   "metadata": {},
   "source": [
    "On installe la bibliothèque folium pour utiliser des cartes :"
   ]
  },
  {
   "cell_type": "code",
   "execution_count": null,
   "metadata": {},
   "outputs": [],
   "source": [
    "!pip install folium"
   ]
  },
  {
   "cell_type": "code",
   "execution_count": null,
   "metadata": {},
   "outputs": [],
   "source": [
    "import folium\n",
    "\n",
    "macarte = folium.Map(location=[latitude,longitude],zoom_start=4) # pour créer la carte\n",
    "folium.Marker([latitude,longitude]).add_to(macarte) # pour placer un marqueur\n",
    "macarte # pour afficher la carte que l'on vient de créer"
   ]
  },
  {
   "cell_type": "markdown",
   "metadata": {},
   "source": [
    "ça marche !"
   ]
  },
  {
   "cell_type": "markdown",
   "metadata": {},
   "source": [
    "Compléments et essais :"
   ]
  },
  {
   "cell_type": "code",
   "execution_count": null,
   "metadata": {},
   "outputs": [],
   "source": [
    "type(exif_data[34853])"
   ]
  },
  {
   "cell_type": "markdown",
   "metadata": {},
   "source": [
    "connaitre l'altitude :\n",
    "ce sont les clés 5 et 6 du dictionnaire exif_data contenant le dictionnaire exif_data[34853]\n",
    "\n",
    "la clé 5 : GPSAltitudeRef  indique si l'altitude est au dessus ou en dessous du niveau de la mer \n",
    "\n",
    "b'\\x00'\n",
    "\n",
    "\n",
    "la clé 6 : GPSAltitude donne l'altitude sous la forme d'un nombre rationnel :  \n",
    "\n",
    "( 150, 2 ) correspond ainsi à 150/2 = 75 m\n",
    "\n",
    "GPSAltitudeRef Indicates the altitude used as the reference altitude. If the reference is sea level and the altitude is above sea level, 0 is given. If the altitude is below sea level, a value of 1 is given and the altitude is indicated as an absolute value in the GPSAltitude tag. The reference unit is meters. Note that this tag is BYTE type, unlike other reference tags.\n",
    "\n",
    "GPSAltitude Indicates the altitude based on the reference in GPSAltitudeRef. Altitude is expressed as one RATIONAL value. The reference unit is meters."
   ]
  },
  {
   "cell_type": "markdown",
   "metadata": {},
   "source": [
    "On peut considérer les dictionnaires comme des ensembles de paires clé: valeur, les clés devant être uniques (au sein d'un dictionnaire). \n",
    "Une paire d'accolades crée un dictionnaire vide : {}. Placer une liste de paires clé:valeur séparées par des virgules à l'intérieur des accolades ajoute les valeurs correspondantes au dictionnaire ; c'est également de cette façon que les dictionnaires sont affichés."
   ]
  },
  {
   "cell_type": "code",
   "execution_count": null,
   "metadata": {},
   "outputs": [],
   "source": [
    "hauteur = exif_data[34853][6]\n",
    "hauteur"
   ]
  },
  {
   "cell_type": "code",
   "execution_count": null,
   "metadata": {},
   "outputs": [],
   "source": [
    "hauteur_m = hauteur[0]/hauteur[1]\n",
    "print (f\"la hauteur en mètres vaut : {round(hauteur_m,1)} m\" )"
   ]
  },
  {
   "cell_type": "code",
   "execution_count": null,
   "metadata": {},
   "outputs": [],
   "source": [
    "ref = exif_data[34853][5]\n",
    "ref"
   ]
  },
  {
   "cell_type": "markdown",
   "metadata": {},
   "source": [
    "\\x00 signifie null , c'est un objet bytes (=octet ?)\n"
   ]
  },
  {
   "cell_type": "code",
   "execution_count": null,
   "metadata": {},
   "outputs": [],
   "source": [
    "type (ref)"
   ]
  },
  {
   "cell_type": "code",
   "execution_count": null,
   "metadata": {},
   "outputs": [],
   "source": [
    "ref[0] # pour accéder à la valeur du bytes en integer\n"
   ]
  },
  {
   "cell_type": "code",
   "execution_count": null,
   "metadata": {},
   "outputs": [],
   "source": [
    "int.from_bytes(ref, byteorder='big') # pour convertir un byte en integer"
   ]
  },
  {
   "cell_type": "code",
   "execution_count": null,
   "metadata": {},
   "outputs": [],
   "source": [
    "bytes([0]) # pour convertir un integer en byte , ne pas oublier les crochets"
   ]
  },
  {
   "cell_type": "code",
   "execution_count": null,
   "metadata": {},
   "outputs": [],
   "source": []
  },
  {
   "cell_type": "code",
   "execution_count": null,
   "metadata": {},
   "outputs": [],
   "source": []
  },
  {
   "cell_type": "code",
   "execution_count": null,
   "metadata": {},
   "outputs": [],
   "source": []
  }
 ],
 "metadata": {
  "kernelspec": {
   "display_name": "Python 3",
   "language": "python",
   "name": "python3"
  },
  "language_info": {
   "codemirror_mode": {
    "name": "ipython",
    "version": 3
   },
   "file_extension": ".py",
   "mimetype": "text/x-python",
   "name": "python",
   "nbconvert_exporter": "python",
   "pygments_lexer": "ipython3",
   "version": "3.6.5"
  }
 },
 "nbformat": 4,
 "nbformat_minor": 4
}
